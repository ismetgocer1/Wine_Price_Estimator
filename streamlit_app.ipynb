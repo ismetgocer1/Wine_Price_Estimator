{
 "cells": [
  {
   "cell_type": "code",
   "execution_count": 47,
   "id": "a9068f92",
   "metadata": {},
   "outputs": [],
   "source": [
    "# En iyi calisan, Ulkeler degisince fiyat degismiyor "
   ]
  },
  {
   "cell_type": "code",
   "execution_count": 50,
   "id": "1f1f977c",
   "metadata": {},
   "outputs": [
    {
     "name": "stdout",
     "output_type": "stream",
     "text": [
      "Overwriting Streamlit_app.py\n"
     ]
    }
   ],
   "source": [
    "%%writefile Streamlit_app.py\n",
    "import streamlit as st\n",
    "import joblib\n",
    "import numpy as np\n",
    "import pandas as pd\n",
    "import pickle\n",
    "\n",
    "# Sayfayı üç sütuna ayırıyoruz\n",
    "col1, col2, col3 = st.columns([1, 2, 1])\n",
    "\n",
    "# CSS stilini ekliyoruz\n",
    "st.markdown(\n",
    "    \"\"\"\n",
    "    <style>\n",
    "    .small-font {\n",
    "        font-size:12px !important;\n",
    "    }\n",
    "    .red-header {\n",
    "        text-align: center;\n",
    "        color: #b30000;\n",
    "    }\n",
    "    .background {\n",
    "        background-color: #FFD6E7;\n",
    "        padding: 10px;\n",
    "        border-radius: 10px;\n",
    "    }\n",
    "    .compact {\n",
    "        margin-bottom: 0px;\n",
    "        margin-top: 0px;\n",
    "    }\n",
    "    </style>\n",
    "    \"\"\",\n",
    "    unsafe_allow_html=True\n",
    ")\n",
    "\n",
    "# Sol sütuna başlık ve girdiler ekliyoruz\n",
    "with col1:\n",
    "    st.markdown('<div class=\"background\">', unsafe_allow_html=True)\n",
    "    st.markdown('<h4 class=\"small-font\">Choose Your Wine</h4>', unsafe_allow_html=True)\n",
    "    \n",
    "    st.markdown('<p class=\"small-font compact\">Wine Score</p>', unsafe_allow_html=True)\n",
    "    wine_score = st.slider(\"\", min_value=80, max_value=100, value=90)\n",
    "    \n",
    "    st.markdown('<p class=\"small-font compact\">Vintage (Age of Wine)</p>', unsafe_allow_html=True)\n",
    "    vintage = st.slider(\"\", min_value=0, max_value=100, value=10)\n",
    "    \n",
    "    st.markdown('<p class=\"small-font compact\">Quality Index</p>', unsafe_allow_html=True)\n",
    "    quality_index = st.slider(\"\", min_value=-2.0, max_value=4.0, value=1.0)\n",
    "    st.markdown('</div>', unsafe_allow_html=True)\n",
    "\n",
    "# Orta sütuna başlık ve GIF ekliyoruz\n",
    "with col2:\n",
    "    st.markdown('<h2 class=\"red-header\">AI Supported Wine Price Estimator</h2>', unsafe_allow_html=True)\n",
    "    st.image(\"national-wine-day-wine-day.gif\")\n",
    "\n",
    "# Sağ sütuna \"Country of Origin\" ve \"Special Price\" metnini ve altındaki kutuyu ekliyoruz\n",
    "with col3:\n",
    "    st.markdown('<div class=\"background\">', unsafe_allow_html=True)\n",
    "    st.markdown('<p class=\"small-font compact\">Country of Origin</p>', unsafe_allow_html=True)\n",
    "    country = st.selectbox(\"\", options=[\"France\", \"Spain\", \"England\", \"New Zealand\"])\n",
    "    \n",
    "    st.markdown('<h4 class=\"small-font compact\">Special Price:</h4>', unsafe_allow_html=True)\n",
    "    \n",
    "    # Modeli ve encoder'ı yükle\n",
    "    model = joblib.load(\"final_model.joblib\")\n",
    "    with open('onehot_encoder.pkl', 'rb') as file:\n",
    "        loaded_encoder = pickle.load(file)\n",
    "    \n",
    "    # Verileri hazırlama\n",
    "    data = pd.DataFrame({\n",
    "        'wine_score': [np.log(wine_score)],\n",
    "        'age_of_wine': [np.log(vintage)],\n",
    "        'quality_index': [quality_index],\n",
    "        'country': [country]\n",
    "    })\n",
    "    \n",
    "    # One-Hot Encoding (önceden eğitilmiş encoder'ı kullanarak)    \n",
    "    encoded_country = loaded_encoder.transform(data[['country']])\n",
    "    encoded_country_df = pd.DataFrame(encoded_country, columns=loaded_encoder.get_feature_names_out(['country'])).astype(int)\n",
    "    \n",
    "    data = data.drop('country', axis=1)\n",
    "    data = pd.concat([data, encoded_country_df], axis=1)\n",
    "    \n",
    "    # Gerekli tüm sütunların olduğundan emin olun\n",
    "    expected_columns = model.feature_names_\n",
    "    for col in expected_columns:\n",
    "        if col not in data.columns:\n",
    "            data[col] = 0\n",
    "\n",
    "    # Tahmin\n",
    "    predicted_price_log = model.predict(data)[0]\n",
    "    predicted_price = np.exp(predicted_price_log)  # Inverse logaritma\n",
    "    \n",
    "    # Tahmin edilen fiyatı göster\n",
    "    st.text_input(\"\", value=f\"${predicted_price:.2f}\", disabled=True)\n",
    "    st.markdown('</div>', unsafe_allow_html=True)\n"
   ]
  },
  {
   "cell_type": "code",
   "execution_count": null,
   "id": "2bf77365",
   "metadata": {
    "ExecuteTime": {
     "start_time": "2024-06-02T19:23:31.000Z"
    }
   },
   "outputs": [],
   "source": [
    "!streamlit run Streamlit.py"
   ]
  },
  {
   "cell_type": "code",
   "execution_count": null,
   "id": "5cd3b322",
   "metadata": {},
   "outputs": [],
   "source": []
  }
 ],
 "metadata": {
  "hide_input": false,
  "kernelspec": {
   "display_name": "Python 3 (ipykernel)",
   "language": "python",
   "name": "python3"
  },
  "language_info": {
   "codemirror_mode": {
    "name": "ipython",
    "version": 3
   },
   "file_extension": ".py",
   "mimetype": "text/x-python",
   "name": "python",
   "nbconvert_exporter": "python",
   "pygments_lexer": "ipython3",
   "version": "3.10.9"
  },
  "toc": {
   "base_numbering": 1,
   "nav_menu": {},
   "number_sections": true,
   "sideBar": true,
   "skip_h1_title": false,
   "title_cell": "Table of Contents",
   "title_sidebar": "Contents",
   "toc_cell": false,
   "toc_position": {},
   "toc_section_display": true,
   "toc_window_display": false
  }
 },
 "nbformat": 4,
 "nbformat_minor": 5
}
