{
 "cells": [
  {
   "cell_type": "code",
   "execution_count": 3,
   "id": "1fd07709",
   "metadata": {
    "ExecuteTime": {
     "end_time": "2024-06-02T19:23:33.691203Z",
     "start_time": "2024-06-02T19:23:33.669894Z"
    }
   },
   "outputs": [
    {
     "name": "stdout",
     "output_type": "stream",
     "text": [
      "Overwriting Streamlit.py\n"
     ]
    }
   ],
   "source": [
    "%%writefile Streamlit.py\n",
    "import streamlit as st\n",
    "\n",
    "# Sayfayı üç sütuna ayırıyoruz\n",
    "col1, col2, col3 = st.columns([1, 2, 1])\n",
    "\n",
    "# CSS stilini ekliyoruz\n",
    "st.markdown(\n",
    "    \"\"\"\n",
    "    <style>\n",
    "    .small-font {\n",
    "        font-size:12px !important;\n",
    "    }\n",
    "    .red-header {\n",
    "        text-align: center;\n",
    "        color: #b30000;\n",
    "    }\n",
    "    .background {\n",
    "        background-color: #FFD6E7;\n",
    "        padding: 10px;\n",
    "        border-radius: 10px;\n",
    "    }\n",
    "    .compact {\n",
    "        margin-bottom: 0px;\n",
    "        margin-top: 0px;\n",
    "    }\n",
    "    </style>\n",
    "    \"\"\",\n",
    "    unsafe_allow_html=True\n",
    ")\n",
    "\n",
    "# Sol sütuna başlık ve girdiler ekliyoruz\n",
    "with col1:\n",
    "    st.markdown('<div class=\"background\">', unsafe_allow_html=True)\n",
    "    st.markdown('<h4 class=\"small-font\">Chose Your Wine</h4>', unsafe_allow_html=True)\n",
    "    \n",
    "    st.markdown('<p class=\"small-font compact\">Wine Score</p>', unsafe_allow_html=True)\n",
    "    wine_score = st.slider(\"\", min_value=80, max_value=100, value=90)\n",
    "    \n",
    "    st.markdown('<p class=\"small-font compact\">Vintage (Age of Wine)</p>', unsafe_allow_html=True)\n",
    "    vintage = st.slider(\"\", min_value=0, max_value=100, value=10)\n",
    "    \n",
    "    st.markdown('<p class=\"small-font compact\">Quality Index</p>', unsafe_allow_html=True)\n",
    "    quality_index = st.slider(\"\", min_value=-2.0, max_value=4.0, value=1.0)\n",
    "    st.markdown('</div>', unsafe_allow_html=True)\n",
    "\n",
    "# Orta sütuna başlık ve GIF ekliyoruz\n",
    "with col2:\n",
    "    st.markdown('<h2 class=\"red-header\">AI Supported Wine Price Estimator</h2>', unsafe_allow_html=True)\n",
    "    st.image(\"national-wine-day-wine-day.gif\")\n",
    "\n",
    "# Sağ sütuna \"Country of Origin\" ve \"Special Price\" metnini ve altındaki kutuyu ekliyoruz\n",
    "with col3:\n",
    "    st.markdown('<div class=\"background\">', unsafe_allow_html=True)\n",
    "    st.markdown('<p class=\"small-font compact\">Country of Origin</p>', unsafe_allow_html=True)\n",
    "    country = st.selectbox(\"\", options=[\"France\", \"Germany\", \"Spain\", \"England\"])\n",
    "    \n",
    "    st.markdown('<h4 class=\"small-font compact\">Special Price:</h4>', unsafe_allow_html=True)\n",
    "    estimated_price = 42.50  # Bu, tahmin edilen fiyatın olduğu değişken\n",
    "    st.text_input(\"\", value=f\"${estimated_price:.2f}\", disabled=True)\n",
    "    st.markdown('</div>', unsafe_allow_html=True)\n"
   ]
  },
  {
   "cell_type": "code",
   "execution_count": null,
   "id": "2bf77365",
   "metadata": {
    "ExecuteTime": {
     "start_time": "2024-06-02T19:23:31.000Z"
    }
   },
   "outputs": [],
   "source": [
    "!streamlit run Streamlit.py"
   ]
  }
 ],
 "metadata": {
  "hide_input": false,
  "kernelspec": {
   "display_name": "Python 3 (ipykernel)",
   "language": "python",
   "name": "python3"
  },
  "language_info": {
   "codemirror_mode": {
    "name": "ipython",
    "version": 3
   },
   "file_extension": ".py",
   "mimetype": "text/x-python",
   "name": "python",
   "nbconvert_exporter": "python",
   "pygments_lexer": "ipython3",
   "version": "3.11.5"
  },
  "toc": {
   "base_numbering": 1,
   "nav_menu": {},
   "number_sections": true,
   "sideBar": true,
   "skip_h1_title": false,
   "title_cell": "Table of Contents",
   "title_sidebar": "Contents",
   "toc_cell": false,
   "toc_position": {},
   "toc_section_display": true,
   "toc_window_display": false
  }
 },
 "nbformat": 4,
 "nbformat_minor": 5
}
